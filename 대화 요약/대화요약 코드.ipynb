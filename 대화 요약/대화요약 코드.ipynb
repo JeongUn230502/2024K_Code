{
 "cells": [
  {
   "cell_type": "markdown",
   "metadata": {},
   "source": [
    "## 대화 요약 코드"
   ]
  },
  {
   "cell_type": "code",
   "execution_count": 1,
   "metadata": {},
   "outputs": [],
   "source": [
    "# 원시 말뭉치 에서 기준에 맞게 말뭉치 추출\n",
    "# 기준 : 첫번째 form 에 [사설] 이 들어가 있고, 220 어절 이상인 문서\n",
    "import json\n",
    "import glob\n",
    "\n",
    "json_list = glob.glob(\"../../말뭉치/원시_말뭉치/대화 요약/json/*.json\")\n",
    "\n",
    "for each_json in json_list :\n",
    "    with open(f\"{each_json}\") as json_f :\n",
    "        json_data = json.load(json_f)\n",
    "        for json_document in json_data[\"document\"] :\n",
    "            form = \"\"\n",
    "            if \"[사설]\" in json_document[\"paragraph\"][0][\"form\"] :\n",
    "                for json_document_paragraph in json_document[\"paragraph\"] :\n",
    "                    form += json_document_paragraph[\"form\"] + \"\\n\"\n",
    "                if len(form.split(\" \")) >= 220 :\n",
    "                    switch_json = {}\n",
    "                    switch_json[\"id\"] = json_document[\"id\"]\n",
    "                    switch_json[\"metadata\"] = json_document[\"metadata\"]\n",
    "                    switch_json[\"paragraph\"] = json_document[\"paragraph\"]\n",
    "                    with open(f\"../../말뭉치/정제_말뭉치/대화 요약/json/{json_document['id']}.json\", \"w\") as json_file :\n",
    "                        json.dump(switch_json, json_file, ensure_ascii=False, indent=4)\n",
    "                        json_file.close()\n",
    "                    with open(f\"../../말뭉치/정제_말뭉치/대화 요약/txt/{json_document['id']}.txt\", \"w\") as txt_file :\n",
    "                        txt_file.write(form)\n",
    "                        txt_file.close()\n"
   ]
  },
  {
   "cell_type": "code",
   "execution_count": 28,
   "metadata": {},
   "outputs": [],
   "source": [
    "# 문서로 나눈 말뭉치를 작업자가 작업 하는 문서로 변경 하는 작업\n",
    "# 작업 하는 문서 -> [사설] 없애고, \". \"으로 분리해서 \".\\n\" 을 추가 해서 line by line 으로 분리\n",
    "\n",
    "from glob import glob\n",
    "\n",
    "txt_file_list = glob(\"../../말뭉치/정제_말뭉치/대화 요약/txt_4731/*.txt\")\n",
    "\n",
    "for txt_file in txt_file_list :\n",
    "    txt_name = txt_file.split(\"/\")[6]\n",
    "    txt_number = txt_name.split(\".\")[1]\n",
    "    form = []\n",
    "    form_index = 0\n",
    "    with open(txt_file, \"r\") as f:\n",
    "        for line in f :\n",
    "            for form_line in line.split(\". \") :\n",
    "                form_index += 1\n",
    "                if \"[사설]\" in form_line :\n",
    "                    form.append(f\"{txt_number}.{form_index} : \" + form_line.split(\"[사설]\")[1].strip())\n",
    "                else :\n",
    "                    if \"\\n\" in form_line :\n",
    "                        form.append(f\"{txt_number}.{form_index} : \" + form_line[0:len(form_line)-1])\n",
    "                    else :\n",
    "                        form.append(f\"{txt_number}.{form_index} : \" + form_line + \".\")\n",
    "    with open(f\"../../말뭉치/2차정제_말뭉치/대화 요약/txt/{txt_name}\", \"w+\") as txt:\n",
    "        for form_line in form :\n",
    "            txt.write(form_line + \"\\n\")\n",
    "        txt.close()"
   ]
  },
  {
   "cell_type": "code",
   "execution_count": 43,
   "metadata": {},
   "outputs": [],
   "source": [
    "# 1차 라벨링 결과물을 가지고 핵심 문장을 txt에 추가\n",
    "import jsonlines\n",
    "from glob import glob\n",
    "SOURCE_FILE = \"./\"\n",
    "WORKER = [\"A\", \"B\", \"C\", \"D\", \"E\", \"F\", \"G\", \"H\", \"I\", \"J\"]\n",
    "\n",
    "\n",
    "# 각 jsonl loop\n",
    "with jsonlines.open(\"../../말뭉치/라벨링_결과물/20240305/admin.jsonl\") as jsonl :\n",
    "\n",
    "    # jsonl 에서 각 문서를 loop\n",
    "    for line in jsonl :\n",
    "        sentence_list = []\n",
    "        form = []\n",
    "        new_form = []\n",
    "        form = line['text'].split(\"\\n\")\n",
    "        form = [v for v in form if v]\n",
    "        import_sentence = []\n",
    "\n",
    "        for form_line in form :\n",
    "            new_form.append(form_line.split(\" : \")[1])\n",
    "        for line_entities in line[\"entities\"] :\n",
    "            sentence_list.append(line['text'][line_entities['start_offset']:line_entities['end_offset']])        \n",
    "        for sentence_number in sentence_list :\n",
    "            for form_line in form :\n",
    "                if sentence_number in form_line :\n",
    "                    import_sentence.append(form_line.split(\" : \")[1])\n",
    "        \n",
    "        new_form.append(\"\\n\")\n",
    "        new_form.append(\"[핵심 문장]\")\n",
    "        new_form = new_form + import_sentence\n",
    "        \n",
    "        with open(\"../../말뭉치/라벨링_결과물/20240305/admin_txt.txt\", \"w\") as txt_file :\n",
    "            txt_file.write(\"\\n\".join(new_form))\n",
    "            txt_file.close()\n",
    "        "
   ]
  }
 ],
 "metadata": {
  "kernelspec": {
   "display_name": "Python 3",
   "language": "python",
   "name": "python3"
  },
  "language_info": {
   "codemirror_mode": {
    "name": "ipython",
    "version": 3
   },
   "file_extension": ".py",
   "mimetype": "text/x-python",
   "name": "python",
   "nbconvert_exporter": "python",
   "pygments_lexer": "ipython3",
   "version": "3.9.6"
  }
 },
 "nbformat": 4,
 "nbformat_minor": 2
}
